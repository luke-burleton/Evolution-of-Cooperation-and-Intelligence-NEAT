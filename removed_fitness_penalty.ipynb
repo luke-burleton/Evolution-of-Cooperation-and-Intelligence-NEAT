{
 "cells": [
  {
   "cell_type": "markdown",
   "metadata": {},
   "source": [
    "# Investigating the co-evolution of cooperation and intelligence using Neuroevolution of Augmenting Topologies (Removed Fitness Penalty for Intelligence)"
   ]
  },
  {
   "cell_type": "markdown",
   "metadata": {},
   "source": [
    "### Setup"
   ]
  },
  {
   "cell_type": "markdown",
   "metadata": {},
   "source": [
    "Importing all the relevant libraries for the simulations and analyses:\n",
    " - `dill` - is used to  save session data due to long run times.\n",
    " - `random` - used to generate random numbers.\n",
    " - `neat` - the Neat-Python library used to generate the population of neural networks and evolve them using the NEAT aglorithm alongside a fitness function.\n",
    " - `numpy` - one of the most popular numerical computing tools for Python.\n",
    " - `pandas` - used to construct and edit dataframes for the collected data.\n",
    " - `statistics` - the `covariance` function is used from the basic statistics library in Python to help calculate the selection for intelligence.\n",
    " - `scipy.stats` - the `spearmanr` function is used here to carry out Spearman's rank corrleation tests on the collected data.\n",
    " - `matplotlib` and `seaborn` - both of these libraries are used for all figure construction/data visualisaiton. \n",
    " - `statmodels` - used to calculate lowess lines for correlation plots. "
   ]
  },
  {
   "cell_type": "code",
   "execution_count": null,
   "metadata": {},
   "outputs": [],
   "source": [
    "# Import relevant libraries\n",
    "import dill\n",
    "import random\n",
    "import neat\n",
    "import numpy as np\n",
    "import pandas as pd\n",
    "from scipy.stats import spearmanr\n",
    "from scipy.stats import rankdata\n",
    "import csv\n",
    "import matplotlib.pyplot as plt\n",
    "import seaborn as sns\n",
    "import statsmodels.api as sm"
   ]
  },
  {
   "cell_type": "code",
   "execution_count": null,
   "metadata": {},
   "outputs": [],
   "source": [
    "# Define all main settings for the model outside the config file\n",
    "# Payoffs - R = Reward, P = Punishment, T = Temptation, S = Sucker\n",
    "# IPD\n",
    "IPD_R = 6\n",
    "IPD_P = 2\n",
    "IPD_T = 7\n",
    "IPD_S = 1\n",
    "\n",
    "# ISD\n",
    "ISD_R = 5\n",
    "ISD_P = 1\n",
    "ISD_T = 8\n",
    "ISD_S = 2\n",
    "\n",
    "# Number of rounds per interaction (number of rounds for each iterated game)\n",
    "num_rounds = 50\n",
    "\n",
    "# Number of rounds per test\n",
    "test_num_rounds = 20\n",
    "\n",
    "# Number of generations to simulate\n",
    "num_generations = 10000\n",
    "\n",
    "# Cooperation threshold - above what output should cooperation occur - here if above 0.5, assume 1 (cooperate); if bellow 0.5, assume 0 (defect)\n",
    "cooperation_threshold = 0.5\n",
    "\n",
    "# Cost of intelligence - the value to multiply the intelligence metric by to find the fitness penalty of intelligence\n",
    "intelligence_cost = 0\n",
    "\n",
    "# Create lists to store the results for each generation of the model\n",
    "# IPD\n",
    "IPD_network_fitness_values = []\n",
    "IPD_mean_fitness = []\n",
    "IPD_network_intelligence_values = []\n",
    "IPD_mean_intelligence = []\n",
    "IPD_cooperation_frequency = []\n",
    "IPD_strategies_each_generation = []\n",
    "\n",
    "# ISD\n",
    "ISD_network_fitness_values = []\n",
    "ISD_mean_fitness = []\n",
    "ISD_network_intelligence_values = []\n",
    "ISD_mean_intelligence = []\n",
    "ISD_cooperation_frequency = []\n",
    "ISD_strategies_each_generation = []"
   ]
  },
  {
   "cell_type": "markdown",
   "metadata": {},
   "source": [
    "### Test-set Generation"
   ]
  },
  {
   "cell_type": "code",
   "execution_count": null,
   "metadata": {},
   "outputs": [],
   "source": [
    "def generate_test_set(test_num_rounds):\n",
    "    # Opponents' cooperation probabilities - ranging from 0 to 1 in increments of 0.25\n",
    "    cooperation_probs = [0, 0.25, 0.5, 0.75, 1]\n",
    "\n",
    "    # List to store each list of moves for each opponent\n",
    "    test_set = []\n",
    "\n",
    "    # Generate moves for each opponent\n",
    "    for prob in cooperation_probs:\n",
    "        opponent_moves = []\n",
    "        for round in range(test_num_rounds):\n",
    "            move = 1 if random.random() < prob else 0  # Cooperate (1) with probability prob, otherwise defect (0)\n",
    "            opponent_moves.append(move)\n",
    "        test_set.append(opponent_moves)\n",
    "\n",
    "    return test_set\n",
    "\n",
    "test_set_moves = generate_test_set(test_num_rounds)\n",
    "print(test_set_moves)\n"
   ]
  },
  {
   "cell_type": "markdown",
   "metadata": {},
   "source": [
    "### Pure Strategy Generation"
   ]
  },
  {
   "cell_type": "markdown",
   "metadata": {},
   "source": [
    "Functions which take in the test-set of moves, and generate the moves each pure strategy would make against the test-set moves:\n",
    "\n",
    "*Always Cooperate*"
   ]
  },
  {
   "cell_type": "code",
   "execution_count": null,
   "metadata": {},
   "outputs": [],
   "source": [
    "def always_cooperate_strategy(test_set):\n",
    "    # List to store always cooperate moves\n",
    "    all_always_cooperate_moves = []\n",
    "    \n",
    "    # Generate a set of moves the same size of each test-set which are always 1\n",
    "    for opponent_moves in test_set:\n",
    "        always_cooperate_moves = []\n",
    "        for move in opponent_moves:\n",
    "            always_cooperate_moves.append(1)\n",
    "        all_always_cooperate_moves.append(always_cooperate_moves)\n",
    "\n",
    "    return all_always_cooperate_moves\n",
    "\n",
    "# Generate the always cooperate moves (always 1)\n",
    "always_cooperate_moves = always_cooperate_strategy(test_set_moves)\n",
    "print(always_cooperate_moves)"
   ]
  },
  {
   "cell_type": "markdown",
   "metadata": {},
   "source": [
    "*Always Defect*"
   ]
  },
  {
   "cell_type": "code",
   "execution_count": null,
   "metadata": {},
   "outputs": [],
   "source": [
    "def always_defect_strategy(test_set):\n",
    "    # List to store always defect moves\n",
    "    all_always_defect_moves = []\n",
    "    \n",
    "    # Generate a set of moves the same size of each test-set which are always 0\n",
    "    for opponent_moves in test_set:\n",
    "        always_defect_moves = []\n",
    "        for move in opponent_moves:\n",
    "            always_defect_moves.append(0)\n",
    "        all_always_defect_moves.append(always_defect_moves)\n",
    "\n",
    "    return all_always_defect_moves\n",
    "\n",
    "# Generate the always defect moves (always 0)\n",
    "always_defect_moves = always_defect_strategy(test_set_moves)\n",
    "print(always_defect_moves)"
   ]
  },
  {
   "cell_type": "markdown",
   "metadata": {},
   "source": [
    "*Tit-for-tat*"
   ]
  },
  {
   "cell_type": "code",
   "execution_count": null,
   "metadata": {},
   "outputs": [],
   "source": [
    "def tit_for_tat_strategy(test_set):\n",
    "    # List to store the moves played by the tit-for-tat strategy against all test set moves\n",
    "    all_tit_for_tat_moves = []\n",
    "\n",
    "    # Play against each test-set opponents moves\n",
    "    for opponent_moves in test_set:\n",
    "        tit_for_tat_moves = []\n",
    "        last_move = 1  # Start by cooperating in the first round\n",
    "        for move in opponent_moves:\n",
    "            tit_for_tat_moves.append(last_move)\n",
    "            last_move = move  # Mirrors the opponent's last move in the next round\n",
    "        all_tit_for_tat_moves.append(tit_for_tat_moves)\n",
    "\n",
    "    return all_tit_for_tat_moves\n",
    "\n",
    "# Generate the tit-for-tat moves\n",
    "tit_for_tat_moves = tit_for_tat_strategy(test_set_moves)\n",
    "print(tit_for_tat_moves)"
   ]
  },
  {
   "cell_type": "markdown",
   "metadata": {},
   "source": [
    "*Tit-for-two-tats*"
   ]
  },
  {
   "cell_type": "code",
   "execution_count": null,
   "metadata": {},
   "outputs": [],
   "source": [
    "def tit_for_two_tats_strategy(test_set):\n",
    "    # List to store the moves played by the tit-for-two-tats strategy against all test set moves\n",
    "    all_tit_for_two_tats_moves = []\n",
    "\n",
    "    # Play against each test-set opponents moves\n",
    "    for opponent_moves in test_set:\n",
    "        tit_for_two_tats_moves = []\n",
    "        consecutive_defects = 0\n",
    "        for move in opponent_moves:\n",
    "            if consecutive_defects < 2:\n",
    "                # Cooperate if the opponent has defected fewer than 2 consecutive times\n",
    "                tit_for_two_tats_moves.append(1)\n",
    "                if move == 0:\n",
    "                    consecutive_defects += 1\n",
    "                else:\n",
    "                    consecutive_defects = 0\n",
    "            else:\n",
    "                # Defect if the opponent has defected two or more consecutive times\n",
    "                tit_for_two_tats_moves.append(0)\n",
    "        all_tit_for_two_tats_moves.append(tit_for_two_tats_moves)\n",
    "\n",
    "    return all_tit_for_two_tats_moves\n",
    "\n",
    "# Generate tit-for-two-tats moves\n",
    "tit_for_two_tats_moves = tit_for_two_tats_strategy(test_set_moves)\n",
    "print(tit_for_two_tats_moves)"
   ]
  },
  {
   "cell_type": "markdown",
   "metadata": {},
   "source": [
    "*Pavlov*"
   ]
  },
  {
   "cell_type": "code",
   "execution_count": null,
   "metadata": {},
   "outputs": [],
   "source": [
    "def pavlov_strategy(test_set):\n",
    "    # List to store the moves played by the pavlov strategy against all test set moves\n",
    "    all_pavlov_moves =[]\n",
    "\n",
    "    # Play against each test-set opponents moves\n",
    "    for opponents_moves in test_set:\n",
    "        pavlov_moves = []\n",
    "        \n",
    "        # Initialise previous move variables\n",
    "        pavlov_last_move = 1\n",
    "        opponent_last_move = 1\n",
    "\n",
    "        for move in opponents_moves:\n",
    "            # Win Stay - mutual cooperation or pavlov exploits\n",
    "            if (pavlov_last_move == 1 and opponent_last_move == 1) or ((pavlov_last_move == 0 and opponent_last_move == 1)):\n",
    "                pavlov_moves.append(pavlov_last_move)\n",
    "            # Lose Shift - mutual defection, or pavlov cooperates, test exploits\n",
    "            else:\n",
    "                pavlov_moves.append(1 - pavlov_last_move) # Switch moves (1-0 = 1, 1-1 = 0)\n",
    "                pavlov_last_move = 1 - pavlov_last_move\n",
    "\n",
    "            # Update last moves for the test-set\n",
    "            opponent_last_move = move\n",
    "      \n",
    "        all_pavlov_moves.append(pavlov_moves)\n",
    "\n",
    "    return all_pavlov_moves\n",
    "\n",
    "# Generate pavlov moves    \n",
    "pavlov_moves = pavlov_strategy(test_set_moves)\n",
    "print(pavlov_moves)    \n"
   ]
  },
  {
   "cell_type": "markdown",
   "metadata": {},
   "source": [
    "### Sum of Squares"
   ]
  },
  {
   "cell_type": "markdown",
   "metadata": {},
   "source": [
    "Below is a function which calculates the mean moves of each pure strategy across each test set sequence."
   ]
  },
  {
   "cell_type": "code",
   "execution_count": null,
   "metadata": {},
   "outputs": [],
   "source": [
    "def mean_moves(all_moves):\n",
    "    num_lists = len(all_moves)\n",
    "    num_elements = len(all_moves[0])\n",
    "\n",
    "    mean_moves = []\n",
    "    for i in range(num_elements):\n",
    "        total= 0\n",
    "        for j in range(num_lists):\n",
    "            total += all_moves[j][i]\n",
    "        mean = total/num_lists\n",
    "        mean_moves.append(mean)\n",
    "    \n",
    "    return mean_moves\n",
    "\n",
    "# Generate the mean move lists for each strategy\n",
    "mean_always_cooperate_moves = mean_moves(always_cooperate_moves)\n",
    "mean_always_defect_moves = mean_moves(always_defect_moves)\n",
    "mean_tit_for_tat_moves = mean_moves(tit_for_tat_moves)\n",
    "mean_tit_for_two_tats_moves = mean_moves(tit_for_two_tats_moves)\n",
    "mean_pavlov_moves = mean_moves(pavlov_moves)\n",
    "\n",
    "# Dictionary to store strategy move sequences\n",
    "mean_strategy_moves = {\n",
    "    'always_cooperate': mean_always_cooperate_moves,\n",
    "    'always_defect': mean_always_defect_moves,\n",
    "    'tit_for_tat': mean_tit_for_tat_moves,\n",
    "    'tit_for_two_tats': mean_tit_for_two_tats_moves,\n",
    "    'pavlov': mean_pavlov_moves\n",
    "    }\n",
    "\n",
    "print(mean_strategy_moves)"
   ]
  },
  {
   "cell_type": "markdown",
   "metadata": {},
   "source": [
    "These mean moves can then be used to compare the similarity between strategies using the *between group sum of squares*. This will be used later to classify the emergent network's strategies to their closest pure strategy."
   ]
  },
  {
   "cell_type": "code",
   "execution_count": null,
   "metadata": {},
   "outputs": [],
   "source": [
    "def between_group_sum_of_squares(list1, list2):\n",
    "    grand_mean = np.mean(list1 + list2)\n",
    "    group_mean1 = np.mean(list1)\n",
    "    group_mean2 = np.mean(list2)\n",
    "    between_group_ss = len(list1) * (group_mean1 - grand_mean) ** 2 + len(list2) * (group_mean2 - grand_mean) ** 2\n",
    "    return between_group_ss\n",
    "\n",
    "print(between_group_sum_of_squares(always_cooperate_moves, always_defect_moves))\n",
    "print(between_group_sum_of_squares(pavlov_moves, tit_for_tat_moves))\n",
    "print(between_group_sum_of_squares(tit_for_tat_moves, tit_for_tat_moves))"
   ]
  },
  {
   "cell_type": "code",
   "execution_count": null,
   "metadata": {},
   "outputs": [],
   "source": [
    "# Function to cluster a set of moves to the cloesest pure strategy\n",
    "def cluster_strategy(mean_network_movelist):\n",
    "\n",
    "    closest_strategy = \"\"\n",
    "    smallest_sum_of_squares = float('inf')  # Initialize with a large value\n",
    "\n",
    "    for strategy, mean_strategy_movelist in mean_strategy_moves.items():\n",
    "        sum_of_squares = between_group_sum_of_squares(mean_network_movelist, mean_strategy_movelist)\n",
    "        if smallest_sum_of_squares > sum_of_squares:\n",
    "                smallest_sum_of_squares = sum_of_squares\n",
    "                closest_strategy = strategy\n",
    "\n",
    "    return closest_strategy\n",
    "\n",
    "# Test to show it groups each strategy as as being cloest to itself - output in order should be: always_cooperate, always_defect, tit_for_tat, tit_for_two_tats and pavlov\n",
    "# As per the mean_strategy_moves dictionary\n",
    "for strategy, mean_strategy_movelist in mean_strategy_moves.items():\n",
    "     print(cluster_strategy(mean_strategy_movelist))"
   ]
  },
  {
   "cell_type": "markdown",
   "metadata": {},
   "source": [
    "### NEAT Simulation"
   ]
  },
  {
   "cell_type": "code",
   "execution_count": null,
   "metadata": {},
   "outputs": [],
   "source": [
    "# Step 1: Set up the NEAT configuration\n",
    "# Define the configuration file path and load it\n",
    "config_path = 'config_relaxed.txt'\n",
    "config = neat.Config(neat.DefaultGenome, neat.DefaultReproduction,\n",
    "                     neat.DefaultSpeciesSet, neat.DefaultStagnation,\n",
    "                     config_path)"
   ]
  },
  {
   "cell_type": "markdown",
   "metadata": {},
   "source": [
    " `nodes` in the genome module refers to a dictionary containing the information concerning nodes for that particular genome. The first item in the dictionary ALWAYS corresponds to the output node and the input nodes are NOT included in this dictionary (see source code for genome). Therefore to obtain the number of hidden nodes (evolved nodes) in the network we return the length of the dictionary - 1. If we wanted to summarise intelligence as the TOTAL number of nodes, we would simply change -1 to +3."
   ]
  },
  {
   "cell_type": "code",
   "execution_count": null,
   "metadata": {},
   "outputs": [],
   "source": [
    "# Step 2: Define a function to calculate the intelligence metric\n",
    "# Here it is just the number of hidden nodes present in the neural network \n",
    "def calculate_intelligence(genome):\n",
    "    return len(genome.nodes)-1"
   ]
  },
  {
   "cell_type": "code",
   "execution_count": null,
   "metadata": {},
   "outputs": [],
   "source": [
    "# Step 3: Function to calculate payoffs based on player's and opponent's moves - used to simplfy later code\n",
    "def calculate_payoffs(player_move, opponent_move, cooperation_threshold, P, T, S, R):\n",
    "\n",
    "    # Initilaise the cooperative act variable (returns as 0 if no cooperation, 1 if there has been a cooperative act from the PLAYER)\n",
    "    cooperative_act = 0\n",
    "\n",
    "    if player_move < cooperation_threshold:\n",
    "        if opponent_move < cooperation_threshold:  # Both Defect\n",
    "            player_score = P\n",
    "            opponent_score = P\n",
    "        else:  # Player Defects, Opponent Cooperates\n",
    "            player_score = T\n",
    "            opponent_score = S\n",
    "            \n",
    "    else:\n",
    "        if opponent_move < cooperation_threshold:  # Player Cooperates, Opponent Defects\n",
    "            player_score = S\n",
    "            opponent_score = T\n",
    "\n",
    "            cooperative_act = 1\n",
    "        \n",
    "        else:  # Both Cooperate\n",
    "            player_score = R\n",
    "            opponent_score = R\n",
    "\n",
    "            cooperative_act = 1\n",
    "\n",
    "    return player_score, opponent_score, cooperative_act"
   ]
  },
  {
   "cell_type": "code",
   "execution_count": null,
   "metadata": {},
   "outputs": [],
   "source": [
    "# Step 4: Function to play rounds of the game in the fitness calculating stage\n",
    "def play_rounds(network, opponent_network, num_rounds, cooperation_threshold, P, T, S, R):\n",
    "    # Initialise score and cooperative act count variables\n",
    "    player_score, opponent_score = 0, 0\n",
    "    total_player_score = 0\n",
    "    cooperative_acts = 0\n",
    "    round_number = 0\n",
    "\n",
    "    # Play game for the number of rounds defined\n",
    "    for _ in range(num_rounds):\n",
    "        # If it is the first round, randomly determine first moves\n",
    "        if round_number == 0:\n",
    "            player_move = random.randint(0, 1)\n",
    "            opponent_move = random.randint(0, 1)\n",
    "        else:\n",
    "            # Activate the player and opponent networks to calculate the moves\n",
    "            player_move = network.activate([player_score, opponent_score])[0]\n",
    "            opponent_move = opponent_network.activate([opponent_score, player_score])[0]\n",
    "        \n",
    "        # Use the calculate_payoff function to return the scores for this round and if there was a cooperative act or not (0 or 1)\n",
    "        player_score, opponent_score, cooperative_act = calculate_payoffs(player_move, opponent_move, cooperation_threshold, P, T, S, R)\n",
    "        \n",
    "        # Add the score and acts for this round to the totals for the interaction\n",
    "        total_player_score += player_score\n",
    "        cooperative_acts += cooperative_act\n",
    "        \n",
    "        # Increment round number\n",
    "        round_number += 1\n",
    "\n",
    "    return total_player_score, cooperative_acts"
   ]
  },
  {
   "cell_type": "code",
   "execution_count": null,
   "metadata": {},
   "outputs": [],
   "source": [
    "# Step 5: Define the fitness function - most important function here, represents one generation of interactions\n",
    "# IPD fitness function\n",
    "def eval_genomes_IPD(genomes, config):\n",
    "\n",
    "    # EVOLVING / FITNESS CALCULATION\n",
    "    # Initialise result variables for each generation\n",
    "    generation_total_cooperative_acts = 0\n",
    "    generation_total_fitness = 0\n",
    "    generation_total_intelligence = 0\n",
    "    generation_total_interactions = 0\n",
    "    generation_network_fitness_values = []\n",
    "    generation_network_intelligence_values = []\n",
    "    \n",
    "    # For each genome in the population\n",
    "    for genome_id, genome in genomes:\n",
    "        # Retrieve the network from the genome\n",
    "        player_network = neat.nn.RecurrentNetwork.create(genome, config)\n",
    "\n",
    "        # Initialise fitness of the genome\n",
    "        genome_total_fitness = 0.0\n",
    "\n",
    "        # Intiialise cooperative acts for this genome\n",
    "        cooperative_acts = 0\n",
    "\n",
    "        # Retrieve the intelligence metric for the current genome and increase the total intelligence for the generation\n",
    "        intelligence_metric = calculate_intelligence(genome)\n",
    "        generation_network_intelligence_values.append(intelligence_metric)\n",
    "        generation_total_intelligence += intelligence_metric\n",
    "\n",
    "        # Calculate the intelligence penalty for this genome/network\n",
    "        intelligence_penalty = intelligence_metric * intelligence_cost\n",
    "\n",
    "        # Play every other genome in the population\n",
    "        for opponent_genome_id, opponent_genome in genomes:\n",
    "            # Skip playing against itself\n",
    "            if genome_id == opponent_genome.key:\n",
    "                continue\n",
    "\n",
    "            # Retrieve the opponent network\n",
    "            opponent_network = neat.nn.RecurrentNetwork.create(opponent_genome, config)\n",
    "\n",
    "            # Initialise variables\n",
    "            total_player_score = 0\n",
    "\n",
    "            # Play multiple rounds of the game (defined by num_rounds) - IPD payoffs\n",
    "            total_player_score, cooperative_acts = play_rounds(player_network, opponent_network, num_rounds, cooperation_threshold, IPD_P, IPD_T, IPD_S, IPD_R)\n",
    "\n",
    "            # Increase total interactions dependant on the number of rounds being played\n",
    "            generation_total_interactions += num_rounds\n",
    "\n",
    "            # Calculate fitness based on player's accumulated score\n",
    "            genome_total_fitness += total_player_score / num_rounds\n",
    "\n",
    "            # Add the number of cooperative acts this genome to the total count\n",
    "            generation_total_cooperative_acts += cooperative_acts\n",
    "\n",
    "        # Calculate mean fitness over all opponents\n",
    "        genome_mean_fitness_per_round = genome_total_fitness / (len(genomes) - 1)\n",
    "\n",
    "        # Apply the intelligence penalty\n",
    "        genome_mean_fitness_per_round -= intelligence_penalty\n",
    "\n",
    "        # Set the genome's fitness for neat-python\n",
    "        genome.fitness = genome_mean_fitness_per_round\n",
    "        \n",
    "        # Add the network's fitness value to the list for this generation\n",
    "        generation_network_fitness_values.append(genome_mean_fitness_per_round)\n",
    "\n",
    "        # Add the network's fitness value to the total for this generation\n",
    "        generation_total_fitness += genome_mean_fitness_per_round\n",
    "    \n",
    "    # Add this generation's networks intelligence and fitness values to their respective lists\n",
    "    IPD_network_fitness_values.append(generation_network_fitness_values)\n",
    "    IPD_network_intelligence_values.append(generation_network_intelligence_values) \n",
    "    \n",
    "    # Calculate the proportion of cooperative acts by the player (frequency of cooperation) for this generation and add it to the results\n",
    "    IPD_cooperation_frequency.append(generation_total_cooperative_acts / generation_total_interactions)\n",
    "\n",
    "    # Calculate the mean fitness and intelligence across this generation\n",
    "    IPD_mean_fitness.append(generation_total_fitness/len(genomes))\n",
    "    IPD_mean_intelligence.append(generation_total_intelligence/len(genomes))\n",
    "\n",
    "    #TESTING / PHENOTYPING\n",
    "    # Intialise result variables for phenotyping\n",
    "    # List to store all the closest pure strategies this generation\n",
    "    strategies_this_generation = []\n",
    "\n",
    "    for genome_id in genomes:\n",
    "        # Retrieve the network from the genome\n",
    "        network = neat.nn.RecurrentNetwork.create(genome, config)\n",
    "\n",
    "        all_player_moves = []\n",
    "\n",
    "        for moves in test_set_moves:\n",
    "            \n",
    "            # Initialise variables\n",
    "            player_score = 0\n",
    "            opponent_score = 0\n",
    "            \n",
    "            # Stores the networks move sequence for this test set sequence\n",
    "            player_moves = []\n",
    "\n",
    "            round_number = 0\n",
    "            \n",
    "            for move in moves:\n",
    "                if round_number == 0:\n",
    "                    player_move = random.randint(0, 1)\n",
    "                else:\n",
    "                    # Network takes its own and opponent's previous scores\n",
    "                    player_move = network.activate([player_score, opponent_score])[0]\n",
    "                \n",
    "                opponent_move = move\n",
    "\n",
    "                # Determine payoffs based on player's and opponent's moves\n",
    "                if player_move < cooperation_threshold:\n",
    "                    \n",
    "                    # Set this rounds player sequence to defect\n",
    "                    player_moves.append(0)\n",
    "\n",
    "                    if opponent_move < cooperation_threshold:  # Both Defect\n",
    "                        player_score = IPD_P\n",
    "                        opponent_score = IPD_P\n",
    "                    else:  # Player Defects, Opponent Cooperates\n",
    "                        player_score = IPD_T\n",
    "                        opponent_score = IPD_S\n",
    "                else:\n",
    "                    # Set this rounds player sequence to cooperate\n",
    "                    player_moves.append(1)\n",
    "\n",
    "                    if opponent_move < cooperation_threshold:  # Player Cooperates, Opponent Defects\n",
    "                        player_score = IPD_S\n",
    "                        opponent_score = IPD_T\n",
    "                    else:  # Both Cooperate\n",
    "                        player_score = IPD_R\n",
    "                        opponent_score = IPD_R\n",
    "                \n",
    "                round_number += 1\n",
    "\n",
    "            all_player_moves.append(player_moves)\n",
    "\n",
    "        # Identify strategy\n",
    "        mean_player_moves = mean_moves(all_player_moves)\n",
    "        strategies_this_generation.append(cluster_strategy(mean_player_moves))\n",
    "\n",
    "    # Add the strategies observed this generation to the list for each generation\n",
    "    IPD_strategies_each_generation.append(strategies_this_generation)\n"
   ]
  },
  {
   "cell_type": "code",
   "execution_count": null,
   "metadata": {},
   "outputs": [],
   "source": [
    "# Step 6: Define the fitness function for ISD - same as above however applies the ISD payoffs instead\n",
    "def eval_genomes_ISD(genomes, config):\n",
    "\n",
    "    # EVOLVING / FITNESS CALCULATION\n",
    "    # Initialise result variables for each generation\n",
    "    generation_total_cooperative_acts = 0\n",
    "    generation_total_fitness = 0\n",
    "    generation_total_intelligence = 0\n",
    "    generation_total_interactions = 0\n",
    "    generation_network_fitness_values = []\n",
    "    generation_network_intelligence_values = []\n",
    "    \n",
    "    for genome_id, genome in genomes:\n",
    "        # Retrieve the network from the genome\n",
    "        player_network = neat.nn.RecurrentNetwork.create(genome, config)\n",
    "\n",
    "        # Initialise fitness of the genome\n",
    "        genome_total_fitness = 0.0\n",
    "\n",
    "        # Intiialise cooperative acts for this genome\n",
    "        cooperative_acts = 0\n",
    "\n",
    "        # Retrieve the intelligence metric for the current genome and increase the total intelligence for the generation\n",
    "        intelligence_metric = calculate_intelligence(genome)\n",
    "        generation_network_intelligence_values.append(intelligence_metric)\n",
    "        generation_total_intelligence += intelligence_metric\n",
    "\n",
    "        # Calculate the intelligence penalty for this genome/network\n",
    "        intelligence_penalty = intelligence_metric * intelligence_cost\n",
    "        \n",
    "        for opponent_genome_id, opponent_genome in genomes:\n",
    "            # Skip playing against itself\n",
    "            if genome_id == opponent_genome.key:\n",
    "                continue\n",
    "\n",
    "            opponent_network = neat.nn.RecurrentNetwork.create(opponent_genome, config)\n",
    "\n",
    "            # Initialise variables\n",
    "            total_player_score = 0\n",
    "\n",
    "            # Play multiple rounds of the game (defined by num_rounds) - ISD payoffs\n",
    "            total_player_score, cooperative_acts = play_rounds(player_network, opponent_network, num_rounds, cooperation_threshold, ISD_P, ISD_T, ISD_S, ISD_R)\n",
    "\n",
    "            # Increase total interactions dependant on the number of rounds being played\n",
    "            generation_total_interactions += num_rounds\n",
    "\n",
    "            # Calculate fitness based on player's accumulated score - mean payoff per round\n",
    "            genome_total_fitness += total_player_score / num_rounds\n",
    "\n",
    "            # Add the number of cooperative acts this genome to the total count\n",
    "            generation_total_cooperative_acts += cooperative_acts\n",
    "\n",
    "        # Calculate mean fitness over all opponents\n",
    "        genome_mean_fitness_per_round = genome_total_fitness / (len(genomes) - 1)\n",
    "\n",
    "        # Apply the intelligence penalty\n",
    "        genome_mean_fitness_per_round -= intelligence_penalty\n",
    "\n",
    "        # Set the genome's fitness for neat-python\n",
    "        genome.fitness = genome_mean_fitness_per_round\n",
    "        \n",
    "        # Add the network's fitness value to the list for this generation\n",
    "        generation_network_fitness_values.append(genome_mean_fitness_per_round)\n",
    "\n",
    "        # Add the network's fitness value to the total for this generation\n",
    "        generation_total_fitness += genome_mean_fitness_per_round\n",
    "    \n",
    "    # Add this generation's networks intelligence and fitness values to their respective lists\n",
    "    ISD_network_fitness_values.append(generation_network_fitness_values)\n",
    "    ISD_network_intelligence_values.append(generation_network_intelligence_values) \n",
    "\n",
    "    # Calculate the proportion of cooperative acts by the player (frequency of cooperation) for this generation and add it to the results\n",
    "    ISD_cooperation_frequency.append(generation_total_cooperative_acts / generation_total_interactions)\n",
    "\n",
    "    # Calculate the mean fitness and intelligence across this generation\n",
    "    ISD_mean_fitness.append(generation_total_fitness/len(genomes))\n",
    "    ISD_mean_intelligence.append(generation_total_intelligence/len(genomes))\n",
    "\n",
    "    #TESTING / PHENOTYPING\n",
    "    # Intialise result variables for phenotyping\n",
    "    # List to store all the closest pure strategies this generation\n",
    "    strategies_this_generation = []\n",
    "\n",
    "    for genome_id in genomes:\n",
    "        # Retrieve the network from the genome\n",
    "        network = neat.nn.RecurrentNetwork.create(genome, config)\n",
    "\n",
    "        all_player_moves = []\n",
    "\n",
    "        for moves in test_set_moves:\n",
    "            \n",
    "            # Initialise variables\n",
    "            player_score = 0\n",
    "            opponent_score = 0\n",
    "            # Stores the networks move sequence for this test set sequence\n",
    "            player_moves = []\n",
    "\n",
    "            # Counts the round number\n",
    "            round_number = 0\n",
    "            \n",
    "            for move in moves:\n",
    "                if round_number == 0:\n",
    "                    player_move = random.randint(0, 1)\n",
    "                else:\n",
    "                    player_move = network.activate([player_score, opponent_score])[0]\n",
    "                \n",
    "                opponent_move = move\n",
    "\n",
    "                # Determine payoffs based on player's and opponent's moves\n",
    "                if player_move < cooperation_threshold:\n",
    "                    \n",
    "                    # Set this rounds player sequence to defect\n",
    "                    player_moves.append(0)\n",
    "\n",
    "                    if opponent_move < cooperation_threshold:  # Both Defect\n",
    "                        player_score = ISD_P\n",
    "                        opponent_score = ISD_P\n",
    "                    else:  # Player Defects, Opponent Cooperates\n",
    "                        player_score = ISD_T\n",
    "                        opponent_score = ISD_S\n",
    "                else:\n",
    "                    # Set this rounds player sequence to cooperate\n",
    "                    player_moves.append(1)\n",
    "\n",
    "                    if opponent_move < cooperation_threshold:  # Player Cooperates, Opponent Defects\n",
    "                        player_score = ISD_S\n",
    "                        opponent_score = ISD_T\n",
    "                    else:  # Both Cooperate\n",
    "                        player_score = ISD_R\n",
    "                        opponent_score = ISD_R\n",
    "                \n",
    "                round_number += 1\n",
    "                \n",
    "            all_player_moves.append(player_moves)\n",
    "\n",
    "        # Identify strategy\n",
    "        mean_player_moves = mean_moves(all_player_moves)\n",
    "        strategies_this_generation.append(cluster_strategy(mean_player_moves))\n",
    "\n",
    "    # Add the strategies observed this generation to the list for each generation\n",
    "    ISD_strategies_each_generation.append(strategies_this_generation)"
   ]
  },
  {
   "cell_type": "code",
   "execution_count": null,
   "metadata": {},
   "outputs": [],
   "source": [
    "# Step 7: Create the NEAT population\n",
    "def create_population(config):\n",
    "    population = neat.Population(config)\n",
    "    return population\n",
    "\n",
    "# Step 8: Function to run the simulation and report the progress\n",
    "def run_neat_simulation(game, config):\n",
    "    population = create_population(config)\n",
    "    population.add_reporter(neat.StdOutReporter(True))\n",
    "    stats = neat.StatisticsReporter()\n",
    "    population.add_reporter(stats)\n",
    "\n",
    "    # Run the model passing the fitness function defined and the number of generations to run for\n",
    "    if game == \"IPD\":\n",
    "        population.run(eval_genomes_IPD, num_generations)\n",
    "    if game == \"ISD\":\n",
    "        population.run(eval_genomes_ISD, num_generations)"
   ]
  },
  {
   "cell_type": "code",
   "execution_count": null,
   "metadata": {},
   "outputs": [],
   "source": [
    "# Step 9: Run the NEAT simulation for the IPD\n",
    "run_neat_simulation(\"IPD\", config)\n",
    "\n",
    "# Step 10: Run again for the ISD\n",
    "run_neat_simulation(\"ISD\", config)\n",
    "\n",
    "# Save the session incase of crash\n",
    "dill.dump_session('session_save_relaxed.db')"
   ]
  },
  {
   "cell_type": "markdown",
   "metadata": {},
   "source": [
    "### IPD Analysis"
   ]
  },
  {
   "cell_type": "markdown",
   "metadata": {},
   "source": [
    "*Load the session if required*"
   ]
  },
  {
   "cell_type": "code",
   "execution_count": null,
   "metadata": {},
   "outputs": [],
   "source": [
    "dill.load_session('session_save_relaxed.db')"
   ]
  },
  {
   "cell_type": "markdown",
   "metadata": {},
   "source": [
    "*Create a Pandas Data Frame to Store all Results*"
   ]
  },
  {
   "cell_type": "code",
   "execution_count": null,
   "metadata": {},
   "outputs": [],
   "source": [
    "# Create a data library\n",
    "IPD_data = {\n",
    "    \"IPD_network_fitness_values\" : IPD_network_fitness_values,\n",
    "    \"IPD_mean_fitness\" : IPD_mean_fitness,\n",
    "    \"IPD_network_intelligence_values\" : IPD_network_intelligence_values,\n",
    "    \"IPD_mean_intelligence\" : IPD_mean_intelligence,\n",
    "    \"IPD_cooperation_frequency\" : IPD_cooperation_frequency,\n",
    "    \"IPD_strategies_each_generation\" : IPD_strategies_each_generation,\n",
    "}\n",
    "\n",
    "# Create a pandas dataframe from the data library\n",
    "IPD_df = pd.DataFrame(IPD_data)\n",
    "\n",
    "# Make the index the generation number\n",
    "IPD_df.index.name = 'Generation'\n",
    "\n",
    "# Make the index (generation) start at 1 instead of 0\n",
    "IPD_df.index = IPD_df.index + 1 \n",
    "\n",
    "IPD_df.head()"
   ]
  },
  {
   "cell_type": "markdown",
   "metadata": {},
   "source": [
    "*IPD Change in Intelligence and Cooperation Frequency Plots*"
   ]
  },
  {
   "cell_type": "code",
   "execution_count": null,
   "metadata": {},
   "outputs": [],
   "source": [
    "# Setting the seaborn theme\n",
    "sns.set_theme()\n",
    "# Plotting the change in mean intelligence over generations\n",
    "plt.figure(figsize=(10, 5))\n",
    "sns.lineplot(data = IPD_df, x= 'Generation', y= 'IPD_mean_intelligence')\n",
    "plt.xlabel('Generations')\n",
    "plt.ylabel('Mean Intelligence')\n",
    "plt.title('Change in Mean Intelligence over Generations')\n",
    "plt.grid(True)\n",
    "plt.show()\n",
    "\n",
    "# Plotting the change in frequency of cooperation over generations\n",
    "plt.figure(figsize=(10, 5))\n",
    "sns.lineplot(data = IPD_df, x= 'Generation', y= 'IPD_cooperation_frequency')\n",
    "plt.xlabel('Generations')\n",
    "plt.ylabel('Frequency of Cooperation')\n",
    "plt.title('Change in Frequency of Cooperation over Generations')\n",
    "plt.grid(True)\n",
    "\n",
    "plt.show()"
   ]
  },
  {
   "cell_type": "markdown",
   "metadata": {},
   "source": [
    "*IPD Overall Mean Intelligence and Frequency of Cooperation*"
   ]
  },
  {
   "cell_type": "code",
   "execution_count": null,
   "metadata": {},
   "outputs": [],
   "source": [
    "# Mean intelligence\n",
    "print(\"Overall Mean Intellgence:\")\n",
    "print(IPD_df['IPD_mean_intelligence'].mean())\n",
    "\n",
    "# Mean frequency of cooperation\n",
    "print(\"Mean Frequency of Cooperation:\")\n",
    "print(IPD_df['IPD_cooperation_frequency'].mean())"
   ]
  },
  {
   "cell_type": "markdown",
   "metadata": {},
   "source": [
    "*IPD Frequency of Strategies across Generations*"
   ]
  },
  {
   "cell_type": "code",
   "execution_count": null,
   "metadata": {},
   "outputs": [],
   "source": [
    "# Extract unique strategies from IPD_strategies_each_generation\n",
    "unique_strategies = set(strategy for strategies in IPD_df[\"IPD_strategies_each_generation\"] for strategy in strategies)\n",
    "\n",
    "# Calculate strategy frequencies for each generation\n",
    "for strategy in unique_strategies:\n",
    "    IPD_df[strategy + \"_frequency\"] = IPD_df[\"IPD_strategies_each_generation\"].apply(lambda x: x.count(strategy) / len(x))\n",
    "\n",
    "IPD_df.head()"
   ]
  },
  {
   "cell_type": "code",
   "execution_count": null,
   "metadata": {},
   "outputs": [],
   "source": [
    "plt.figure(figsize=(12, 8))\n",
    "\n",
    "# Define the rolling window\n",
    "rolling_window = 10\n",
    "\n",
    "# Apply rolling mean for smoother visualization\n",
    "rolling_always_cooperate = IPD_df['always_cooperate_frequency'].rolling(window=rolling_window).mean()\n",
    "rolling_always_defect = IPD_df['always_defect_frequency'].rolling(window=rolling_window).mean()\n",
    "rolling_tit_for_tat = IPD_df['tit_for_tat_frequency'].rolling(window=rolling_window).mean()\n",
    "rolling_tit_for_two_tats = IPD_df['tit_for_two_tats_frequency'].rolling(window=rolling_window).mean()\n",
    "rolling_pavlov = IPD_df['pavlov_frequency'].rolling(window=rolling_window).mean()\n",
    "\n",
    "plt.subplot(2, 3, 1)\n",
    "sns.lineplot(data=IPD_df, x='Generation', y=rolling_always_cooperate)\n",
    "plt.xlabel('Generations')\n",
    "plt.ylabel('Frequency')\n",
    "plt.title('Always Cooperate')\n",
    "plt.grid(True)\n",
    "plt.ylim(0, 1)\n",
    "\n",
    "plt.subplot(2, 3, 2)\n",
    "sns.lineplot(data=IPD_df, x='Generation', y=rolling_always_defect, color='#dd8452')\n",
    "plt.xlabel('Generations')\n",
    "plt.ylabel('Frequency')\n",
    "plt.title('Always Defect')\n",
    "plt.grid(True)\n",
    "plt.ylim(0, 1)\n",
    "\n",
    "plt.subplot(2, 3, 3)\n",
    "sns.lineplot(data=IPD_df, x='Generation', y=rolling_tit_for_tat, color='#58ac6c')\n",
    "plt.xlabel('Generations')\n",
    "plt.ylabel('Frequency')\n",
    "plt.title('Tit-for-Tat')\n",
    "plt.grid(True)\n",
    "plt.ylim(0, 1)\n",
    "\n",
    "plt.subplot(2, 3, 4)\n",
    "sns.lineplot(data=IPD_df, x='Generation', y=rolling_tit_for_two_tats, color='#c84c54')\n",
    "plt.xlabel('Generations')\n",
    "plt.ylabel('Frequency')\n",
    "plt.title('Tit-for-Two-Tats')\n",
    "plt.grid(True)\n",
    "plt.ylim(0, 1)\n",
    "\n",
    "plt.subplot(2, 3, 5)\n",
    "sns.lineplot(data=IPD_df, x='Generation', y=rolling_pavlov, color='#e08cc4')\n",
    "plt.xlabel('Generations')\n",
    "plt.ylabel('Frequency')\n",
    "plt.title('Pavlov')\n",
    "plt.grid(True)\n",
    "plt.ylim(0, 1)\n",
    "\n",
    "plt.tight_layout()  # Adjust layout for better spacing\n",
    "plt.show()"
   ]
  },
  {
   "cell_type": "markdown",
   "metadata": {},
   "source": [
    "*IPD Mean Strategy Frequencies*"
   ]
  },
  {
   "cell_type": "code",
   "execution_count": null,
   "metadata": {},
   "outputs": [],
   "source": [
    "# Calculate mean strategy frequencies\n",
    "IPD_mean_always_cooperate_freq = IPD_df['always_cooperate_frequency'].mean()\n",
    "IPD_mean_always_defect_freq = IPD_df['always_defect_frequency'].mean()\n",
    "IPD_mean_tit_for_tat_freq = IPD_df['tit_for_tat_frequency'].mean()\n",
    "IPD_mean_tit_for_two_tats_freq = IPD_df['tit_for_two_tats_frequency'].mean()\n",
    "IPD_mean_pavlov_freq = IPD_df['pavlov_frequency'].mean()\n",
    "\n",
    "# Print the mean values\n",
    "print(\"Mean always cooperate frequency:\", IPD_mean_always_cooperate_freq)\n",
    "print(\"Mean always defect frequency:\", IPD_mean_always_defect_freq)\n",
    "print(\"Mean tit for tat frequency:\", IPD_mean_tit_for_tat_freq)\n",
    "print(\"Mean tit for two tats frequency:\", IPD_mean_tit_for_two_tats_freq)\n",
    "print(\"Mean pavlov frequency:\", IPD_mean_pavlov_freq)\n"
   ]
  },
  {
   "cell_type": "markdown",
   "metadata": {},
   "source": [
    "*IPD Spearman's Rank Correlation between frequency of cooperation and mean intelligence*"
   ]
  },
  {
   "cell_type": "code",
   "execution_count": null,
   "metadata": {},
   "outputs": [],
   "source": [
    "# Spearman's Rank Correlation for frequency of cooperative acts and mean intelligence\n",
    "# Compute the correlation coefficient (rho) and p-value\n",
    "IPD_intelligence_cooperation_rho, IPD_intelligence_cooperation_pvalue = spearmanr(IPD_cooperation_frequency, IPD_mean_intelligence)\n",
    "\n",
    "print(\"Spearman's Rank Correlation:\")\n",
    "print(\"rho:\", IPD_intelligence_cooperation_rho)\n",
    "print(\"p-value:\", IPD_intelligence_cooperation_pvalue)"
   ]
  },
  {
   "cell_type": "code",
   "execution_count": null,
   "metadata": {},
   "outputs": [],
   "source": [
    "# Calculate the LOWESS line\n",
    "lowess = sm.nonparametric.lowess(IPD_cooperation_frequency, IPD_mean_intelligence)\n",
    "\n",
    "plt.figure(figsize=(10, 5))\n",
    "sns.scatterplot(x=IPD_mean_intelligence, y=IPD_cooperation_frequency, alpha=0.5)\n",
    "plt.plot(lowess[:, 0], lowess[:, 1], linewidth=2)  # Plot the LOESS line\n",
    "plt.xlabel('Mean Intelligence')\n",
    "plt.ylabel('Frequency of Cooperation')\n",
    "plt.title('Correlation between Frequency of Cooperation and Mean Intelligence')\n",
    "plt.grid(True)\n",
    "plt.show()"
   ]
  },
  {
   "cell_type": "markdown",
   "metadata": {},
   "source": [
    "*IPD Selection for Intelligence*"
   ]
  },
  {
   "cell_type": "markdown",
   "metadata": {},
   "source": [
    "The measure for the selection for intelligence in each generation is calculated as the covariance between fitness and intelligence, divided by the mean fitness of the population in that generation."
   ]
  },
  {
   "cell_type": "code",
   "execution_count": null,
   "metadata": {},
   "outputs": [],
   "source": [
    "# Calculate the covariance between fitness and intelligence in each generation and store them in a list\n",
    "IPD_covariance_values = []\n",
    "for fitness_values, intelligence_values in zip(IPD_df['IPD_network_fitness_values'], IPD_df['IPD_network_intelligence_values']):\n",
    "    cov = np.cov(fitness_values, intelligence_values)[0][1]\n",
    "    IPD_covariance_values.append(cov)\n",
    "\n",
    "# Divide by the mean fitness in the population for each generation\n",
    "IPD_selection_for_intelligence = [cov / mean_fitness for cov, mean_fitness in zip(IPD_covariance_values, IPD_mean_fitness)]\n",
    "\n",
    "# Add a column in the pandas dataframe for the selection for intelligence measure each generation.\n",
    "IPD_df['IPD_selection_for_intelligence'] = IPD_selection_for_intelligence"
   ]
  },
  {
   "cell_type": "code",
   "execution_count": null,
   "metadata": {},
   "outputs": [],
   "source": [
    "plt.figure(figsize=(10, 5))\n",
    "sns.lineplot(data = IPD_df, x= 'Generation', y= 'IPD_selection_for_intelligence')\n",
    "plt.xlabel('Generations')\n",
    "plt.ylabel('Selection for Intelligence')\n",
    "plt.title('Selection for Intelligence over Generations')\n",
    "plt.grid(True)\n",
    "plt.show()"
   ]
  },
  {
   "cell_type": "code",
   "execution_count": null,
   "metadata": {},
   "outputs": [],
   "source": [
    "# Mean selection for intelligence\n",
    "print(IPD_df['IPD_selection_for_intelligence'].mean())"
   ]
  },
  {
   "cell_type": "markdown",
   "metadata": {},
   "source": [
    "*IPD Correlation between Selection for Intelligence and Strategy Frequencies*"
   ]
  },
  {
   "cell_type": "code",
   "execution_count": null,
   "metadata": {},
   "outputs": [],
   "source": [
    "# Spearman's Rank Correlation for selection of intelligence and strategy frequencies\n",
    "IPD_ac_selection_rho, IPD_ac_selection_pvalue = spearmanr(IPD_df['always_cooperate_frequency'], IPD_df['IPD_selection_for_intelligence'])\n",
    "IPD_ad_selection_rho, IPD_ad_selection_pvalue = spearmanr(IPD_df['always_defect_frequency'], IPD_df['IPD_selection_for_intelligence'])\n",
    "IPD_tft_selection_rho, IPD_tft_selection_pvalue = spearmanr(IPD_df['tit_for_tat_frequency'], IPD_df['IPD_selection_for_intelligence'])\n",
    "IPD_tftt_selection_rho, IPD_tftt_selection_pvalue = spearmanr(IPD_df['tit_for_two_tats_frequency'], IPD_df['IPD_selection_for_intelligence'])\n",
    "IPD_pvlv_selection_rho, IPD_pvlv_selection_pvalue = spearmanr(IPD_df['pavlov_frequency'], IPD_df['IPD_selection_for_intelligence'])\n",
    "\n",
    "# Print results for each strategy\n",
    "print(\"Always Cooperate:\")\n",
    "print(\"rho:\", IPD_ac_selection_rho)\n",
    "print(\"p-value:\", IPD_ac_selection_pvalue)\n",
    "print(\"\")\n",
    "print(\"Always Defect:\")\n",
    "print(\"rho:\", IPD_ad_selection_rho)\n",
    "print(\"p-value:\", IPD_ad_selection_pvalue)\n",
    "print(\"\")\n",
    "print(\"Tit for tat:\")\n",
    "print(\"rho:\", IPD_tft_selection_rho)\n",
    "print(\"p-value:\", IPD_tft_selection_pvalue)\n",
    "print(\"\")\n",
    "print(\"Tit for two tats:\")\n",
    "print(\"rho:\", IPD_tftt_selection_rho)\n",
    "print(\"p-value:\", IPD_tftt_selection_pvalue)\n",
    "print(\"\")\n",
    "print(\"Pavlov:\")\n",
    "print(\"rho:\", IPD_pvlv_selection_rho)\n",
    "print(\"p-value:\", IPD_pvlv_selection_pvalue)"
   ]
  },
  {
   "cell_type": "markdown",
   "metadata": {},
   "source": [
    "### ISD Analysis"
   ]
  },
  {
   "cell_type": "markdown",
   "metadata": {},
   "source": [
    "*Create a Pandas Data Frame to Store the Results*"
   ]
  },
  {
   "cell_type": "code",
   "execution_count": null,
   "metadata": {},
   "outputs": [],
   "source": [
    "# Same as for the IPD data but replacing the values with the ISD data\n",
    "# Create a data library\n",
    "ISD_data = {\n",
    "    \"ISD_network_fitness_values\" : ISD_network_fitness_values,\n",
    "    \"ISD_mean_fitness\" : ISD_mean_fitness,\n",
    "    \"ISD_network_intelligence_values\" : ISD_network_intelligence_values,\n",
    "    \"ISD_mean_intelligence\" : ISD_mean_intelligence,\n",
    "    \"ISD_cooperation_frequency\" : ISD_cooperation_frequency,\n",
    "    \"ISD_strategies_each_generation\" : ISD_strategies_each_generation,\n",
    "}\n",
    "\n",
    "# Create a pandas dataframe from the data library\n",
    "ISD_df = pd.DataFrame(ISD_data)\n",
    "\n",
    "# Make the index the generation number\n",
    "ISD_df.index.name = 'Generation'\n",
    "\n",
    "# Make the index (generation) start at 1 instead of 0\n",
    "ISD_df.index = ISD_df.index + 1 \n",
    "\n",
    "ISD_df.head()"
   ]
  },
  {
   "cell_type": "markdown",
   "metadata": {},
   "source": [
    "*ISD Change in Intelligence and Cooperation Frequency Plots*"
   ]
  },
  {
   "cell_type": "code",
   "execution_count": null,
   "metadata": {},
   "outputs": [],
   "source": [
    "# Setting the seaborn theme\n",
    "sns.set_theme()\n",
    "# Plotting the change in mean intelligence over generations\n",
    "plt.figure(figsize=(10, 5))\n",
    "sns.lineplot(data = ISD_df, x= 'Generation', y= 'ISD_mean_intelligence')\n",
    "plt.xlabel('Generations')\n",
    "plt.ylabel('Mean Intelligence')\n",
    "plt.title('Change in Mean Intelligence over Generations')\n",
    "plt.grid(True)\n",
    "plt.show()\n",
    "\n",
    "# Plotting the change in frequency of cooperation over generations\n",
    "plt.figure(figsize=(10, 5))\n",
    "sns.lineplot(data = ISD_df, x= 'Generation', y= 'ISD_cooperation_frequency')\n",
    "plt.xlabel('Generations')\n",
    "plt.ylabel('Frequency of Cooperation')\n",
    "plt.title('Change in Frequency of Cooperation over Generations')\n",
    "plt.grid(True)\n",
    "\n",
    "plt.show()"
   ]
  },
  {
   "cell_type": "markdown",
   "metadata": {},
   "source": [
    "*ISD Overall Mean Intelligence and Frequency of Cooperation*"
   ]
  },
  {
   "cell_type": "code",
   "execution_count": null,
   "metadata": {},
   "outputs": [],
   "source": [
    "# Mean intelligence\n",
    "print(\"Overall Mean Intellgence:\")\n",
    "print(ISD_df['ISD_mean_intelligence'].mean())\n",
    "\n",
    "# Mean frequency of cooperation\n",
    "print(\"Mean Frequency of Cooperation:\")\n",
    "print(ISD_df['ISD_cooperation_frequency'].mean())"
   ]
  },
  {
   "cell_type": "markdown",
   "metadata": {},
   "source": [
    "*ISD Frequency of Strategies across Generations*"
   ]
  },
  {
   "cell_type": "code",
   "execution_count": null,
   "metadata": {},
   "outputs": [],
   "source": [
    "# Extract unique strategies from ISD_strategies_each_generation\n",
    "unique_strategies = set(strategy for strategies in ISD_df[\"ISD_strategies_each_generation\"] for strategy in strategies)\n",
    "\n",
    "# Calculate strategy frequencies for each generation\n",
    "for strategy in unique_strategies:\n",
    "    ISD_df[strategy + \"_frequency\"] = ISD_df[\"ISD_strategies_each_generation\"].apply(lambda x: x.count(strategy) / len(x))\n",
    "\n",
    "ISD_df.head()"
   ]
  },
  {
   "cell_type": "code",
   "execution_count": null,
   "metadata": {},
   "outputs": [],
   "source": [
    "plt.figure(figsize=(12, 8))\n",
    "\n",
    "# Define the rolling window\n",
    "rolling_window = 10\n",
    "\n",
    "# Apply rolling mean for smoother visualization\n",
    "rolling_always_cooperate = ISD_df['always_cooperate_frequency'].rolling(window=rolling_window).mean()\n",
    "rolling_always_defect = ISD_df['always_defect_frequency'].rolling(window=rolling_window).mean()\n",
    "rolling_tit_for_tat = ISD_df['tit_for_tat_frequency'].rolling(window=rolling_window).mean()\n",
    "rolling_tit_for_two_tats = ISD_df['tit_for_two_tats_frequency'].rolling(window=rolling_window).mean()\n",
    "rolling_pavlov = ISD_df['pavlov_frequency'].rolling(window=rolling_window).mean()\n",
    "\n",
    "plt.subplot(2, 3, 1)\n",
    "sns.lineplot(data=ISD_df, x='Generation', y=rolling_always_cooperate)\n",
    "plt.xlabel('Generations')\n",
    "plt.ylabel('Frequency')\n",
    "plt.title('Always Cooperate')\n",
    "plt.grid(True)\n",
    "plt.ylim(0, 1)\n",
    "\n",
    "plt.subplot(2, 3, 2)\n",
    "sns.lineplot(data=ISD_df, x='Generation', y=rolling_always_defect, color='#dd8452')\n",
    "plt.xlabel('Generations')\n",
    "plt.ylabel('Frequency')\n",
    "plt.title('Always Defect')\n",
    "plt.grid(True)\n",
    "plt.ylim(0, 1)\n",
    "\n",
    "plt.subplot(2, 3, 3)\n",
    "sns.lineplot(data=ISD_df, x='Generation', y=rolling_tit_for_tat, color='#58ac6c')\n",
    "plt.xlabel('Generations')\n",
    "plt.ylabel('Frequency')\n",
    "plt.title('Tit-for-Tat')\n",
    "plt.grid(True)\n",
    "plt.ylim(0, 1)\n",
    "\n",
    "plt.subplot(2, 3, 4)\n",
    "sns.lineplot(data=ISD_df, x='Generation', y=rolling_tit_for_two_tats, color='#c84c54')\n",
    "plt.xlabel('Generations')\n",
    "plt.ylabel('Frequency')\n",
    "plt.title('Tit-for-Two-Tats')\n",
    "plt.grid(True)\n",
    "plt.ylim(0, 1)\n",
    "\n",
    "plt.subplot(2, 3, 5)\n",
    "sns.lineplot(data=ISD_df, x='Generation', y=rolling_pavlov, color='#e08cc4')\n",
    "plt.xlabel('Generations')\n",
    "plt.ylabel('Frequency')\n",
    "plt.title('Pavlov')\n",
    "plt.grid(True)\n",
    "plt.ylim(0, 1)\n",
    "\n",
    "plt.tight_layout()  # Adjust layout for better spacing\n",
    "plt.show()"
   ]
  },
  {
   "cell_type": "markdown",
   "metadata": {},
   "source": [
    "*ISD Mean Strategy Frequencies*"
   ]
  },
  {
   "cell_type": "code",
   "execution_count": null,
   "metadata": {},
   "outputs": [],
   "source": [
    "# Calculate mean strategy frequencies\n",
    "ISD_mean_always_cooperate_freq = ISD_df['always_cooperate_frequency'].mean()\n",
    "ISD_mean_always_defect_freq = ISD_df['always_defect_frequency'].mean()\n",
    "ISD_mean_tit_for_tat_freq = ISD_df['tit_for_tat_frequency'].mean()\n",
    "ISD_mean_tit_for_two_tats_freq = ISD_df['tit_for_two_tats_frequency'].mean()\n",
    "ISD_mean_pavlov_freq = ISD_df['pavlov_frequency'].mean()\n",
    "\n",
    "# Print the mean values\n",
    "print(\"Mean always cooperate frequency:\", ISD_mean_always_cooperate_freq)\n",
    "print(\"Mean always defect frequency:\", ISD_mean_always_defect_freq)\n",
    "print(\"Mean tit for tat frequency:\", ISD_mean_tit_for_tat_freq)\n",
    "print(\"Mean tit for two tats frequency:\", ISD_mean_tit_for_two_tats_freq)\n",
    "print(\"Mean pavlov frequency:\", ISD_mean_pavlov_freq)\n"
   ]
  },
  {
   "cell_type": "markdown",
   "metadata": {},
   "source": [
    "*ISD Spearman's Rank Correlation between frequency of cooperation and mean intelligence*"
   ]
  },
  {
   "cell_type": "code",
   "execution_count": null,
   "metadata": {},
   "outputs": [],
   "source": [
    "# Spearman's Rank Correlation for frequency of cooperative acts and mean intelligence\n",
    "# Compute the correlation coefficient (rho) and p-value\n",
    "ISD_intelligence_cooperation_rho, ISD_intelligence_cooperation_pvalue = spearmanr(ISD_cooperation_frequency, ISD_mean_intelligence)\n",
    "\n",
    "print(\"Spearman's Rank Correlation:\")\n",
    "print(\"rho:\", ISD_intelligence_cooperation_rho)\n",
    "print(\"p-value:\", ISD_intelligence_cooperation_pvalue)"
   ]
  },
  {
   "cell_type": "code",
   "execution_count": null,
   "metadata": {},
   "outputs": [],
   "source": [
    "# Calculate the LOWESS line\n",
    "lowess = sm.nonparametric.lowess(ISD_cooperation_frequency, ISD_mean_intelligence)\n",
    "\n",
    "plt.figure(figsize=(10, 5))\n",
    "sns.scatterplot(x=ISD_mean_intelligence, y=ISD_cooperation_frequency, alpha=0.5)\n",
    "plt.plot(lowess[:, 0], lowess[:, 1], linewidth=2)  # Plot the LOESS line\n",
    "plt.xlabel('Mean Intelligence')\n",
    "plt.ylabel('Frequency of Cooperation')\n",
    "plt.title('Correlation between Frequency of Cooperation and Mean Intelligence')\n",
    "plt.grid(True)\n",
    "plt.show()"
   ]
  },
  {
   "cell_type": "markdown",
   "metadata": {},
   "source": [
    "*ISD Selection for Intelligence*"
   ]
  },
  {
   "cell_type": "code",
   "execution_count": null,
   "metadata": {},
   "outputs": [],
   "source": [
    "# Calculate the covariance between fitness and intelligence in each generation\n",
    "ISD_covariance_values = []\n",
    "for fitness_values, intelligence_values in zip(ISD_df['ISD_network_fitness_values'], ISD_df['ISD_network_intelligence_values']):\n",
    "    cov = np.cov(fitness_values, intelligence_values)[0][1]\n",
    "    ISD_covariance_values.append(cov)\n",
    "\n",
    "# Divide by the mean fitness in the population\n",
    "ISD_selection_for_intelligence = [cov / mean_fitness for cov, mean_fitness in zip(ISD_covariance_values, ISD_mean_fitness)]\n",
    "\n",
    "# Add a column in the pandas dataframe for the selection for intelligence measure each generation.\n",
    "ISD_df['ISD_selection_for_intelligence'] = ISD_selection_for_intelligence"
   ]
  },
  {
   "cell_type": "code",
   "execution_count": null,
   "metadata": {},
   "outputs": [],
   "source": [
    "plt.figure(figsize=(10, 5))\n",
    "sns.lineplot(data = ISD_df, x= 'Generation', y= 'ISD_selection_for_intelligence')\n",
    "plt.xlabel('Generations')\n",
    "plt.ylabel('Selection for Intelligence')\n",
    "plt.title('Selection for Intelligence over Generations')\n",
    "plt.grid(True)\n",
    "plt.show()"
   ]
  },
  {
   "cell_type": "code",
   "execution_count": null,
   "metadata": {},
   "outputs": [],
   "source": [
    "# Mean selection for intelligence\n",
    "print(ISD_df['ISD_selection_for_intelligence'].mean())"
   ]
  },
  {
   "cell_type": "markdown",
   "metadata": {},
   "source": [
    "*ISD Correlation between Selection for Intelligence and Strategy Frequencies*"
   ]
  },
  {
   "cell_type": "code",
   "execution_count": null,
   "metadata": {},
   "outputs": [],
   "source": [
    "# Spearman's Rank Correlation for selection of intelligence and strategy frequencies\n",
    "ISD_ac_selection_rho, ISD_ac_selection_pvalue = spearmanr(ISD_df['always_cooperate_frequency'], ISD_df['ISD_selection_for_intelligence'])\n",
    "ISD_ad_selection_rho, ISD_ad_selection_pvalue = spearmanr(ISD_df['always_defect_frequency'], ISD_df['ISD_selection_for_intelligence'])\n",
    "ISD_tft_selection_rho, ISD_tft_selection_pvalue = spearmanr(ISD_df['tit_for_tat_frequency'], ISD_df['ISD_selection_for_intelligence'])\n",
    "ISD_tftt_selection_rho, ISD_tftt_selection_pvalue = spearmanr(ISD_df['tit_for_two_tats_frequency'], ISD_df['ISD_selection_for_intelligence'])\n",
    "ISD_pvlv_selection_rho, ISD_pvlv_selection_pvalue = spearmanr(ISD_df['pavlov_frequency'], ISD_df['ISD_selection_for_intelligence'])\n",
    "\n",
    "# Print results for each strategy\n",
    "print(\"Always Cooperate:\")\n",
    "print(\"rho:\", ISD_ac_selection_rho)\n",
    "print(\"p-value:\", ISD_ac_selection_pvalue)\n",
    "print(\"\")\n",
    "print(\"Always Defect:\")\n",
    "print(\"rho:\", ISD_ad_selection_rho)\n",
    "print(\"p-value:\", ISD_ad_selection_pvalue)\n",
    "print(\"\")\n",
    "print(\"Tit for tat:\")\n",
    "print(\"rho:\", ISD_tft_selection_rho)\n",
    "print(\"p-value:\", ISD_tft_selection_pvalue)\n",
    "print(\"\")\n",
    "print(\"Tit for two tats:\")\n",
    "print(\"rho:\", ISD_tftt_selection_rho)\n",
    "print(\"p-value:\", ISD_tftt_selection_pvalue)\n",
    "print(\"\")\n",
    "print(\"Pavlov:\")\n",
    "print(\"rho:\", ISD_pvlv_selection_rho)\n",
    "print(\"p-value:\", ISD_pvlv_selection_pvalue)"
   ]
  }
 ],
 "metadata": {
  "kernelspec": {
   "display_name": "Python 3",
   "language": "python",
   "name": "python3"
  },
  "language_info": {
   "codemirror_mode": {
    "name": "ipython",
    "version": 3
   },
   "file_extension": ".py",
   "mimetype": "text/x-python",
   "name": "python",
   "nbconvert_exporter": "python",
   "pygments_lexer": "ipython3",
   "version": "3.10.0"
  },
  "orig_nbformat": 4
 },
 "nbformat": 4,
 "nbformat_minor": 2
}
